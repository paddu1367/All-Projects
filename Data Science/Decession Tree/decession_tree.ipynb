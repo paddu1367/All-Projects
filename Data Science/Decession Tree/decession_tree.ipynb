{
  "cells": [
    {
      "cell_type": "code",
      "execution_count": null,
      "metadata": {
        "id": "7ligvSKu1KsM"
      },
      "outputs": [],
      "source": [
        "import numpy as np\n",
        "import pandas as pd\n",
        "import re\n",
        "accutacy_values=[]"
      ]
    },
    {
      "cell_type": "code",
      "execution_count": null,
      "metadata": {
        "id": "U4EOy1gn06Yr"
      },
      "outputs": [],
      "source": [
        "class Node:\n",
        "    def __init__(self, feature=None, threshold=None, left=None, right=None, *, value=None):\n",
        "        self.feature = feature\n",
        "        self.threshold = threshold\n",
        "        self.left = left\n",
        "        self.right = right\n",
        "        self.value = value\n",
        "\n",
        "    def is_leaf(self):\n",
        "        return self.value is not None"
      ]
    },
    {
      "cell_type": "code",
      "execution_count": null,
      "metadata": {
        "id": "_O8DBn166BSj"
      },
      "outputs": [],
      "source": [
        "titanic_train = pd.read_csv('train.csv.xls')\n",
        "titanic_test = pd.read_csv('test.csv.xls').fillna(0)\n",
        "full_data = [titanic_train, titanic_test]"
      ]
    },
    {
      "cell_type": "code",
      "execution_count": null,
      "metadata": {
        "id": "emF7Avo9EiPN"
      },
      "outputs": [],
      "source": [
        "#data preprocessing\n",
        "titanic_train['Cabin'] = titanic_train[\"Cabin\"].apply(lambda x: 0 if type(x) == float else 1)\n",
        "titanic_test['Cabin'] = titanic_test[\"Cabin\"].apply(lambda x: 0 if type(x) == float else 1)\n",
        "for dataset in full_data:\n",
        "    dataset['FamilySize'] = dataset['SibSp'] + dataset['Parch'] + 1\n",
        "for dataset in full_data:\n",
        "    dataset['IsAlone'] = 0\n",
        "    dataset.loc[dataset['FamilySize'] == 1, 'IsAlone'] = 1\n",
        "\n",
        "for dataset in full_data:\n",
        "    dataset['Embarked'] = dataset['Embarked'].fillna('S')\n",
        "\n",
        "for dataset in full_data:\n",
        "    dataset['Fare'] = dataset['Fare'].fillna(titanic_train['Fare'].median())\n",
        "\n",
        "for dataset in full_data:\n",
        "    age_avg = dataset['Age'].mean()\n",
        "    age_std = dataset['Age'].std()\n",
        "    age_null_count = dataset['Age'].isnull().sum()\n",
        "    age_null_random_list = np.random.randint(age_avg - age_std, age_avg + age_std, size=age_null_count)\n",
        "\n",
        "    dataset.loc[np.isnan(dataset['Age']), 'Age'] = age_null_random_list\n",
        "    dataset['Age'] = dataset['Age'].astype(int)\n",
        "\n",
        "def get_title(name):\n",
        "    title_search = re.search(' ([A-Za-z]+)\\.', name)\n",
        "    # If the title exists, extract and return it.\n",
        "    if title_search:\n",
        "        return title_search.group(1)\n",
        "    return \"\"\n",
        "\n",
        "for dataset in full_data:\n",
        "    dataset['Title'] = dataset['Name'].apply(get_title)\n",
        "# Group all non-common titles into one single grouping \"Rare\"\n",
        "for dataset in full_data:\n",
        "    dataset['Title'] = dataset['Title'].replace(['Lady', 'Countess','Capt', 'Col','Don', 'Dr', 'Major', 'Rev', 'Sir', 'Jonkheer', 'Dona'], 'Rare')\n",
        "    dataset['Title'] = dataset['Title'].replace('Mlle', 'Miss')\n",
        "    dataset['Title'] = dataset['Title'].replace('Ms', 'Miss')\n",
        "    dataset['Title'] = dataset['Title'].replace('Mme', 'Mrs')\n",
        "for dataset in full_data:\n",
        "    # Mapping Sex\n",
        "    dataset['Sex'] = dataset['Sex'].map( {'female': 0, 'male': 1} ).astype(int)\n",
        "\n",
        "    # Mapping titles\n",
        "    title_mapping = {\"Mr\": 1, \"Master\": 2, \"Mrs\": 3, \"Miss\": 4, \"Rare\": 5}\n",
        "    dataset['Title'] = dataset['Title'].map(title_mapping)\n",
        "    dataset['Title'] = dataset['Title'].fillna(0)\n",
        "\n",
        "    # Mapping Embarked\n",
        "    dataset['Embarked'] = dataset['Embarked'].map( {'S': 0, 'C': 1, 'Q': 2} ).astype(int)\n",
        "    dataset.loc[ dataset['Fare'] <= 7.91, 'Fare'] \t\t\t\t\t\t        = 0\n",
        "    dataset.loc[(dataset['Fare'] > 7.91) & (dataset['Fare'] <= 14.454), 'Fare'] = 1\n",
        "    dataset.loc[(dataset['Fare'] > 14.454) & (dataset['Fare'] <= 31), 'Fare']   = 2\n",
        "    dataset.loc[ dataset['Fare'] > 31, 'Fare'] \t\t\t\t\t\t\t        = 3\n",
        "    dataset['Fare'] = dataset['Fare'].astype(int)\n",
        "\n",
        "    # Mapping Age\n",
        "    dataset.loc[ dataset['Age'] <= 16, 'Age'] \t\t\t\t\t       = 0\n",
        "    dataset.loc[(dataset['Age'] > 16) & (dataset['Age'] <= 32), 'Age'] = 1\n",
        "    dataset.loc[(dataset['Age'] > 32) & (dataset['Age'] <= 48), 'Age'] = 2\n",
        "    dataset.loc[(dataset['Age'] > 48) & (dataset['Age'] <= 64), 'Age'] = 3\n",
        "    dataset.loc[ dataset['Age'] > 64, 'Age']\n",
        "\n",
        "drop_elements = ['PassengerId', 'Name', 'Ticket', 'Cabin', 'SibSp']\n",
        "titanic_train = titanic_train.drop(drop_elements, axis = 1)\n",
        "titanic_test  = titanic_test.drop(drop_elements, axis = 1)"
      ]
    },
    {
      "cell_type": "code",
      "execution_count": null,
      "metadata": {
        "id": "6EPehDNg1RHN"
      },
      "outputs": [],
      "source": [
        "class DecisionTree(object):\n",
        "  def __init__(self,criterion='entropy',min_samples_split=10,max_depth=4,min_samples_leaf=2):\n",
        "    self.root = None\n",
        "    if criterion == 'entropy':\n",
        "      self.criterion = self.entropy\n",
        "    elif criterion == 'gini':\n",
        "      self.criterion = self.gini\n",
        "    else :\n",
        "      return None\n",
        "    self.min_samples_split = min_samples_split\n",
        "    self.max_depth = max_depth\n",
        "    self.classes = None\n",
        "\n",
        "  def fit(self, X, y):\n",
        "    self.root = self._build_tree(X, y)\n",
        "\n",
        "  def _build_tree(self, X, y, depth=0):\n",
        "    self.n_samples,_  = X.shape\n",
        "    self.n_features = np.array(X.columns)\n",
        "    self.classes = len(np.unique(y))\n",
        "\n",
        "    # stopping criteria\n",
        "    if (depth >= self.max_depth or self.classes == 1 or self.n_samples < self.min_samples_split):\n",
        "        most_common_Label = np.argmax(np.bincount(y))\n",
        "        return Node(value=most_common_Label)\n",
        "    #...\n",
        "\n",
        "    # get best split\n",
        "    best_feat, best_thresh = self._best_split(X, y, self.n_features)\n",
        "    #...\n",
        "    # grow children recursively\n",
        "    left_idx, right_idx = self._create_split(X[best_feat], best_thresh)\n",
        "    Xl = X.iloc[left_idx].reset_index(drop = True)#.drop(best_feat,axis = 1)\n",
        "    Xr = X.iloc[right_idx].reset_index(drop = True)#.drop(best_feat,axis=1 )\n",
        "\n",
        "    left_child = self._build_tree(Xl, y[left_idx], depth + 1)\n",
        "    right_child = self._build_tree(Xr, y[right_idx], depth + 1)\n",
        "    \"\"\"left_child = self._build_tree(X.iloc[left_idx].drop(best_feat,axis=1 ), y[left_idx], depth + 1)\n",
        "    right_child = self._build_tree(X.iloc[right_idx].drop(best_feat,axis=1 ), y[right_idx], depth + 1)\"\"\"\n",
        "    return Node(best_feat, best_thresh, left_child, right_child)\n",
        "\n",
        "  def _best_split(self, X, y, features):\n",
        "      split = {'score':- 1, 'feat': None, 'thresh': None}\n",
        "\n",
        "      for feat in features:\n",
        "          X_feat = X[feat]\n",
        "          thresholds = np.unique(X_feat)\n",
        "          for thresh in thresholds:\n",
        "              score = self.information_gain(X_feat, y, thresh)\n",
        "\n",
        "              if score > split['score']:\n",
        "                  split['score'] = score\n",
        "                  split['feat'] = feat\n",
        "                  split['thresh'] = thresh\n",
        "      return split['feat'], split['thresh']\n",
        "\n",
        "  def information_gain(self, X, y, thresh):\n",
        "      parent_loss = self.criterion(y)\n",
        "      left_idx, right_idx = self._create_split(X, thresh)\n",
        "      n, n_left, n_right = len(y), len(left_idx), len(right_idx)\n",
        "\n",
        "      if n_left == 0 or n_right == 0:\n",
        "          return 0\n",
        "      child_loss = (n_left / n) * self.criterion(y[left_idx]) + (n_right / n) * self.criterion(y[right_idx])\n",
        "\n",
        "      return parent_loss - child_loss\n",
        "\n",
        "  def entropy(self, y):\n",
        "      proportions = np.bincount(y) / len(y)\n",
        "      entropy = -np.sum([p * np.log2(p) for p in proportions if p > 0])\n",
        "      return entropy\n",
        "\n",
        "  def gini(self,y):\n",
        "      probablity = np.bincount(y) / len(y)\n",
        "      return 1-np.sum([p**2 for p in probablity])\n",
        "  def _create_split(self, X, thresh):\n",
        "      left_idx = X[X <= thresh].index\n",
        "      right_idx = X[X > thresh].index\n",
        "      return left_idx, right_idx\n",
        "\n",
        "  def _traverse_tree(self, x, node):\n",
        "        if node.is_leaf():\n",
        "            return node.value\n",
        "\n",
        "        if x[node.feature] <= node.threshold:\n",
        "            return self._traverse_tree(x, node.left)\n",
        "        return self._traverse_tree(x, node.right)\n",
        "\n",
        "  def predict(self, X):\n",
        "      predictions = [self._traverse_tree(x[1],self.root) for x in X.iterrows()]\n",
        "      return np.array(predictions)\n"
      ]
    },
    {
      "cell_type": "code",
      "execution_count": null,
      "metadata": {
        "id": "csgYAD9I8QLZ"
      },
      "outputs": [],
      "source": [
        "classifer = DecisionTree(criterion = 'gini',max_depth=4)\n",
        "root = classifer.fit(titanic_train.drop(['Survived'],axis=1),titanic_train['Survived'].to_numpy())"
      ]
    },
    {
      "cell_type": "code",
      "execution_count": null,
      "metadata": {
        "id": "_mJbR4L9o98H"
      },
      "outputs": [],
      "source": [
        "y_pred = classifer.predict(titanic_test)"
      ]
    },
    {
      "cell_type": "code",
      "execution_count": null,
      "metadata": {
        "id": "GpCMkDDKKqJF"
      },
      "outputs": [],
      "source": [
        "Y = pd.read_csv('submission.csv')"
      ]
    },
    {
      "cell_type": "code",
      "execution_count": null,
      "metadata": {
        "id": "HV4RafEwOzhk"
      },
      "outputs": [],
      "source": [
        "def accuracy(y_pred,y_out):\n",
        "  count=0\n",
        "  for i in range(len(y_out)):\n",
        "    if y_pred[i]==y_out[i]:\n",
        "      count+=1\n",
        "  return count/len(y_out)*100"
      ]
    },
    {
      "cell_type": "code",
      "execution_count": null,
      "metadata": {
        "colab": {
          "base_uri": "https://localhost:8080/"
        },
        "id": "u6HU0oTcPXRs",
        "outputId": "542aaef4-66c2-4510-85cb-86d2a48fa0de"
      },
      "outputs": [
        {
          "name": "stdout",
          "output_type": "stream",
          "text": [
            "97.1291866028708\n"
          ]
        }
      ],
      "source": [
        "print(accuracy(y_pred,Y['Survived'].values))\n",
        "accutacy_values.append({\"classifier\":'Decession Tree',\n",
        "                        \"Accuracy\": str(accuracy(y_pred,Y['Survived'].values))})"
      ]
    },
    {
      "cell_type": "code",
      "execution_count": null,
      "metadata": {
        "id": "PGlrI-nYH39z"
      },
      "outputs": [],
      "source": [
        "class RandomForest(object):\n",
        "  def __init__(self,num_trees=10,min_features=5):\n",
        "     self.num_trees = num_trees\n",
        "     self.min_features=min_features\n",
        "     self.trees = []\n",
        "  def fit(self,X,y):\n",
        "    for i in range(self.num_trees):\n",
        "      col=pd.Series(X.columns)\n",
        "      n = np.random.randint(self.min_features,len(col))\n",
        "      col = col.sample(n,ignore_index=True)\n",
        "      print(list(col))\n",
        "      decession = DecisionTree()\n",
        "      inp =X\n",
        "      inp['survived'] = y\n",
        "      inp = inp.sample(replace=True,ignore_index=True)\n",
        "      decession.fit(inp[list(col)],inp['survived'])\n",
        "      self.trees.append(decession.root)\n",
        "     # print(self.trees[i])\n",
        "\n",
        "  def _traverse_tree(self, x, node):\n",
        "        if node.is_leaf():\n",
        "            return node.value\n",
        "\n",
        "        if x[node.feature] <= node.threshold:\n",
        "            return self._traverse_tree(x, node.left)\n",
        "        return self._traverse_tree(x, node.right)\n",
        "\n",
        "  def predict(self, X):\n",
        "    predictions = np.zeros((self.num_trees,len(X)))\n",
        "    out = []\n",
        "    for i in range(self.num_trees):\n",
        "      predictions[i] =[self._traverse_tree(x[1],self.trees[i]) for x in X.iterrows()]\n",
        "    for pre in predictions.T:\n",
        "      count_0=0\n",
        "      count_1=0\n",
        "      for val in pre:\n",
        "        if val==0:\n",
        "          count_0+=1\n",
        "        else: count_1+=1\n",
        "      if  count_0>count_1:\n",
        "        out.append(0)\n",
        "      else: out.append(1)\n",
        "    return out"
      ]
    },
    {
      "cell_type": "code",
      "execution_count": null,
      "metadata": {
        "colab": {
          "base_uri": "https://localhost:8080/"
        },
        "id": "aILDcrvBLM5A",
        "outputId": "51180b4a-b678-4c45-8f44-a86956b5dc03"
      },
      "outputs": [
        {
          "name": "stdout",
          "output_type": "stream",
          "text": [
            "['Title', 'Embarked', 'Parch', 'Pclass', 'Age', 'Fare', 'IsAlone']\n",
            "['Pclass', 'Embarked', 'Parch', 'Fare', 'Title', 'survived']\n",
            "['Age', 'Pclass', 'IsAlone', 'Sex', 'survived', 'Title', 'Fare', 'Embarked']\n",
            "['Title', 'FamilySize', 'Parch', 'Fare', 'Age', 'Sex']\n",
            "['FamilySize', 'Parch', 'Fare', 'IsAlone', 'survived', 'Embarked', 'Age', 'Pclass']\n",
            "['IsAlone', 'Sex', 'Pclass', 'survived', 'FamilySize', 'Fare', 'Parch']\n",
            "['Parch', 'Sex', 'Title', 'Embarked', 'IsAlone', 'Age']\n",
            "['survived', 'Fare', 'Title', 'IsAlone', 'Age', 'Parch', 'Sex', 'Pclass', 'Embarked']\n",
            "['Parch', 'Age', 'Embarked', 'Pclass', 'survived', 'Sex']\n",
            "['IsAlone', 'Parch', 'survived', 'FamilySize', 'Fare', 'Sex', 'Age']\n"
          ]
        }
      ],
      "source": [
        "random = RandomForest()\n",
        "random.fit(titanic_train.drop(['Survived'],axis=1),titanic_train['Survived'].to_numpy())"
      ]
    },
    {
      "cell_type": "code",
      "execution_count": null,
      "metadata": {
        "id": "_r8NaM7IuZB1"
      },
      "outputs": [],
      "source": [
        "pred = random.predict(titanic_test)"
      ]
    },
    {
      "cell_type": "code",
      "execution_count": null,
      "metadata": {
        "colab": {
          "base_uri": "https://localhost:8080/"
        },
        "id": "AgnTMJtC4frU",
        "outputId": "9b73a31f-de3e-4680-910d-f6e51e351639"
      },
      "outputs": [
        {
          "name": "stdout",
          "output_type": "stream",
          "text": [
            "59.80861244019139\n"
          ]
        }
      ],
      "source": [
        "print(accuracy(pred,Y['Survived'].values))\n",
        "accutacy_values.append({\"classifier\":'Random Forest',\n",
        "                        \"Accuracy\": str(accuracy(pred,Y['Survived'].values))})"
      ]
    },
    {
      "cell_type": "code",
      "execution_count": null,
      "metadata": {
        "id": "-Gsej_cHWwy4"
      },
      "outputs": [],
      "source": [
        "def compute_error(y, y_pred, w):\n",
        "\n",
        "    return (sum(w * (np.not_equal(y, y_pred)).astype(int)))/sum(w)\n",
        "\n",
        "def compute_alpha(error):\n",
        "    return np.log((1 - error) / error)\n",
        "\n",
        "def update_weights(w, alpha, y, y_pred):\n",
        "\n",
        "    return w * np.exp(alpha * (np.not_equal(y, y_pred)).astype(int))"
      ]
    },
    {
      "cell_type": "code",
      "execution_count": null,
      "metadata": {
        "id": "tJKRdiknW_l8"
      },
      "outputs": [],
      "source": [
        "class AdaBoost:\n",
        "\n",
        "    def __init__(self):\n",
        "        self.alphas = []\n",
        "        self.classifiers = []\n",
        "        self.M = None\n",
        "        self.training_errors = []\n",
        "        self.prediction_errors = []\n",
        "\n",
        "    def fit(self, X, y, M = 100):\n",
        "        self.alphas = []\n",
        "        self.training_errors = []\n",
        "        self.M = M\n",
        "        for m in range(0, M):\n",
        "            if m == 0:\n",
        "                w = np.ones(len(y)) * 1 / len(y)\n",
        "            else:\n",
        "                w = update_weights(w, alpha, y, y_pred)\n",
        "\n",
        "            classifiers = DecisionTree(max_depth = 1)\n",
        "            classifiers.fit(X, y, sample_weight = w)\n",
        "            y_pred = classifiers.predict(X)\n",
        "\n",
        "            self.classifiers.append(classifiers) # Save to list of weak classifiers\n",
        "\n",
        "            # (b) Compute error\n",
        "            error = compute_error(y, y_pred, w)\n",
        "            self.training_errors.append(error)\n",
        "            alpha = compute_alpha(error)\n",
        "            self.alphas.append(alpha)\n",
        "\n",
        "    def predict(self, X):\n",
        "\n",
        "        weak_preds = pd.DataFrame(index = range(len(X)), columns = range(self.M))\n",
        "        for m in range(self.M):\n",
        "            y_pred_m = self.classifiers[m].predict(X) * self.alphas[m]\n",
        "            weak_preds.iloc[:,m] = y_pred_m\n",
        "\n",
        "        y_pred = (1 * np.sign(weak_preds.T.sum())).astype(int)\n",
        "\n",
        "        return y_pred"
      ]
    },
    {
      "cell_type": "code",
      "execution_count": null,
      "metadata": {
        "id": "USQv6HRQXZmh"
      },
      "outputs": [],
      "source": [
        "df=pd.DataFrame(accutacy_values)"
      ]
    },
    {
      "cell_type": "code",
      "execution_count": null,
      "metadata": {
        "colab": {
          "base_uri": "https://localhost:8080/",
          "height": 112
        },
        "id": "H4F4IrnWih9M",
        "outputId": "136b7596-ac4f-4edf-a925-ec39f41ff0e1"
      },
      "outputs": [
        {
          "data": {
            "text/html": [
              "\n",
              "  <div id=\"df-7214b532-1ba0-4205-a99c-58f4417f304f\">\n",
              "    <div class=\"colab-df-container\">\n",
              "      <div>\n",
              "<style scoped>\n",
              "    .dataframe tbody tr th:only-of-type {\n",
              "        vertical-align: middle;\n",
              "    }\n",
              "\n",
              "    .dataframe tbody tr th {\n",
              "        vertical-align: top;\n",
              "    }\n",
              "\n",
              "    .dataframe thead th {\n",
              "        text-align: right;\n",
              "    }\n",
              "</style>\n",
              "<table border=\"1\" class=\"dataframe\">\n",
              "  <thead>\n",
              "    <tr style=\"text-align: right;\">\n",
              "      <th></th>\n",
              "      <th>classifier</th>\n",
              "      <th>Accuracy</th>\n",
              "    </tr>\n",
              "  </thead>\n",
              "  <tbody>\n",
              "    <tr>\n",
              "      <th>0</th>\n",
              "      <td>Decession Tree</td>\n",
              "      <td>97.1291866028708</td>\n",
              "    </tr>\n",
              "    <tr>\n",
              "      <th>1</th>\n",
              "      <td>Random Forest</td>\n",
              "      <td>59.80861244019139</td>\n",
              "    </tr>\n",
              "  </tbody>\n",
              "</table>\n",
              "</div>\n",
              "      <button class=\"colab-df-convert\" onclick=\"convertToInteractive('df-7214b532-1ba0-4205-a99c-58f4417f304f')\"\n",
              "              title=\"Convert this dataframe to an interactive table.\"\n",
              "              style=\"display:none;\">\n",
              "        \n",
              "  <svg xmlns=\"http://www.w3.org/2000/svg\" height=\"24px\"viewBox=\"0 0 24 24\"\n",
              "       width=\"24px\">\n",
              "    <path d=\"M0 0h24v24H0V0z\" fill=\"none\"/>\n",
              "    <path d=\"M18.56 5.44l.94 2.06.94-2.06 2.06-.94-2.06-.94-.94-2.06-.94 2.06-2.06.94zm-11 1L8.5 8.5l.94-2.06 2.06-.94-2.06-.94L8.5 2.5l-.94 2.06-2.06.94zm10 10l.94 2.06.94-2.06 2.06-.94-2.06-.94-.94-2.06-.94 2.06-2.06.94z\"/><path d=\"M17.41 7.96l-1.37-1.37c-.4-.4-.92-.59-1.43-.59-.52 0-1.04.2-1.43.59L10.3 9.45l-7.72 7.72c-.78.78-.78 2.05 0 2.83L4 21.41c.39.39.9.59 1.41.59.51 0 1.02-.2 1.41-.59l7.78-7.78 2.81-2.81c.8-.78.8-2.07 0-2.86zM5.41 20L4 18.59l7.72-7.72 1.47 1.35L5.41 20z\"/>\n",
              "  </svg>\n",
              "      </button>\n",
              "      \n",
              "  <style>\n",
              "    .colab-df-container {\n",
              "      display:flex;\n",
              "      flex-wrap:wrap;\n",
              "      gap: 12px;\n",
              "    }\n",
              "\n",
              "    .colab-df-convert {\n",
              "      background-color: #E8F0FE;\n",
              "      border: none;\n",
              "      border-radius: 50%;\n",
              "      cursor: pointer;\n",
              "      display: none;\n",
              "      fill: #1967D2;\n",
              "      height: 32px;\n",
              "      padding: 0 0 0 0;\n",
              "      width: 32px;\n",
              "    }\n",
              "\n",
              "    .colab-df-convert:hover {\n",
              "      background-color: #E2EBFA;\n",
              "      box-shadow: 0px 1px 2px rgba(60, 64, 67, 0.3), 0px 1px 3px 1px rgba(60, 64, 67, 0.15);\n",
              "      fill: #174EA6;\n",
              "    }\n",
              "\n",
              "    [theme=dark] .colab-df-convert {\n",
              "      background-color: #3B4455;\n",
              "      fill: #D2E3FC;\n",
              "    }\n",
              "\n",
              "    [theme=dark] .colab-df-convert:hover {\n",
              "      background-color: #434B5C;\n",
              "      box-shadow: 0px 1px 3px 1px rgba(0, 0, 0, 0.15);\n",
              "      filter: drop-shadow(0px 1px 2px rgba(0, 0, 0, 0.3));\n",
              "      fill: #FFFFFF;\n",
              "    }\n",
              "  </style>\n",
              "\n",
              "      <script>\n",
              "        const buttonEl =\n",
              "          document.querySelector('#df-7214b532-1ba0-4205-a99c-58f4417f304f button.colab-df-convert');\n",
              "        buttonEl.style.display =\n",
              "          google.colab.kernel.accessAllowed ? 'block' : 'none';\n",
              "\n",
              "        async function convertToInteractive(key) {\n",
              "          const element = document.querySelector('#df-7214b532-1ba0-4205-a99c-58f4417f304f');\n",
              "          const dataTable =\n",
              "            await google.colab.kernel.invokeFunction('convertToInteractive',\n",
              "                                                     [key], {});\n",
              "          if (!dataTable) return;\n",
              "\n",
              "          const docLinkHtml = 'Like what you see? Visit the ' +\n",
              "            '<a target=\"_blank\" href=https://colab.research.google.com/notebooks/data_table.ipynb>data table notebook</a>'\n",
              "            + ' to learn more about interactive tables.';\n",
              "          element.innerHTML = '';\n",
              "          dataTable['output_type'] = 'display_data';\n",
              "          await google.colab.output.renderOutput(dataTable, element);\n",
              "          const docLink = document.createElement('div');\n",
              "          docLink.innerHTML = docLinkHtml;\n",
              "          element.appendChild(docLink);\n",
              "        }\n",
              "      </script>\n",
              "    </div>\n",
              "  </div>\n",
              "  "
            ],
            "text/plain": [
              "       classifier           Accuracy\n",
              "0  Decession Tree   97.1291866028708\n",
              "1   Random Forest  59.80861244019139"
            ]
          },
          "execution_count": 143,
          "metadata": {},
          "output_type": "execute_result"
        }
      ],
      "source": [
        "df"
      ]
    }
  ],
  "metadata": {
    "colab": {
      "provenance": []
    },
    "kernelspec": {
      "display_name": "Python 3",
      "name": "python3"
    },
    "language_info": {
      "name": "python"
    }
  },
  "nbformat": 4,
  "nbformat_minor": 0
}
